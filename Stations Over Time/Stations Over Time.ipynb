{
 "cells": [
  {
   "cell_type": "markdown",
   "id": "e594f66f-cc6d-4062-87b3-1069719ec4a7",
   "metadata": {},
   "source": [
    "# Stations Over Time\n",
    "This notebook generates a timelapse of station availability over time. The `stations.csv` file is manually populated, and used to generate a `stations-over-time.csv` file. "
   ]
  },
  {
   "cell_type": "code",
   "execution_count": null,
   "id": "2f4e159f-17d6-4d6d-89ad-c434b858ef9f",
   "metadata": {},
   "outputs": [],
   "source": [
    "# import conjugate_map.conj_calc as conj\n",
    "import datetime as dt\n",
    "import pandas as pd\n",
    "import plotly.express as px\n",
    "\n",
    "import geopandas\n",
    "# import gpxpy\n",
    "# import gpxpy.gpx\n",
    "# import json\n",
    "\n",
    "import logging\n",
    "logger = logging.getLogger(__name__)"
   ]
  },
  {
   "cell_type": "code",
   "execution_count": null,
   "id": "bebe059a-c7d9-446f-bb46-41795a5d3d5b",
   "metadata": {},
   "outputs": [],
   "source": [
    "stations = pd.read_csv('stations_AntarcticdatacoverageFIgure.csv')\n",
    "stations[\"End\"] = stations[\"Estimated End\"]\n",
    "stations[\"End\"] = stations[\"End\"].fillna(2025) # assume that all stations will last unless noted otherwise\n",
    "stations[\"Start\"] = stations[\"Start\"].fillna(1980) # assume that all stations will last unless noted otherwise\n",
    "stations = pd.DataFrame(stations)\n",
    "\n",
    "\n",
    "# Restrict to only the networks of interest:\n",
    "# stations = stations[stations.Network.isin([\"MACCS\", \"AALPIP\"])]\n",
    "# pd.unique(stations.Institution)"
   ]
  },
  {
   "cell_type": "code",
   "execution_count": null,
   "id": "88182d03-3278-4f85-bc31-c9875dbfe3a0",
   "metadata": {},
   "outputs": [],
   "source": [
    "stations"
   ]
  },
  {
   "cell_type": "code",
   "execution_count": null,
   "id": "bdcc79c1-4c20-4d90-ad0b-2292613021fb",
   "metadata": {},
   "outputs": [],
   "source": [
    "# Preallocate:\n",
    "stations_over_time = pd.DataFrame()\n",
    "\n",
    "\n",
    "for year in [2000, 2017, 2024, 2032]:\n",
    "    try:\n",
    "        print(\"Computing for \" + str(year) + \"...................................................................\")\n",
    "        # run conjcalc for the year of interest\n",
    "        # data = conj.conjcalc(stations, latname = 'GLAT', lonname = 'GLON', dtime = dt.datetime(year, 1, 1), mode='N2S')\n",
    "        data = stations\n",
    "        # add year column to table\n",
    "        data = pd.DataFrame(data)\n",
    "        data['Year'] = year\n",
    "        # append table to big table\n",
    "        # stations_over_time.concat(data)\n",
    "        stations_over_time = pd.concat([stations_over_time, data])\n",
    "        print('Appending to main table.........................................')\n",
    "        print(stations_over_time.shape)\n",
    "        # stations_over_time = pd.concat(data)\n",
    "        \n",
    "    except Exception as e:\n",
    "        print(e)\n",
    "\n",
    "\n",
    "# write DataFrame to an excel sheet \n",
    "stations_over_time\n",
    "stations_over_time.to_csv('stations-over-time.csv')\n",
    "stations_over_time.head()"
   ]
  },
  {
   "cell_type": "code",
   "execution_count": null,
   "id": "fb8b3aa5-c2b8-4466-90ce-a5eb97dc613f",
   "metadata": {},
   "outputs": [],
   "source": []
  },
  {
   "cell_type": "code",
   "execution_count": null,
   "id": "e546bcc7-d760-41cd-9b89-ba9caccdd2ab",
   "metadata": {},
   "outputs": [],
   "source": []
  },
  {
   "cell_type": "markdown",
   "id": "5ea53f26-cd8a-44b2-83f3-0228649a713d",
   "metadata": {},
   "source": [
    "I'm attaching an updated spreadsheet of instrument locations with a new column for estimated end date. I only include the stations in the spreadsheet that I'd like to include in the Figures - all others are deleted. The included locations are a little arbitrary, but they correspond primarily to locations directly supported by NSF/USAP, international collaborations involving NSF/USAP, or figures/data products described earlier in the report.\n",
    "\n",
    "When you have the chance, it would be great if you could make a map for (1) 2017 [all sites and stations in the spreadsheet are active], (2) 2025 [several AGO and BAS sites decommissioned, but most sites still active], and (3) 2032 [everything is gone except for the stations].\n",
    "\n",
    "For this, it would be great if you could have different symbols for deep field magnetometers (AALPIP, AGO, BAS LPM), GNSS (or GNSS/seismic - includes POLENET and UKANET), and stations (may include both magnetometer and GNSS). It would also be nice to have a few lines of constant geographic latitude/longitude, just for reference."
   ]
  },
  {
   "cell_type": "code",
   "execution_count": null,
   "id": "a70de2bd-8dcd-416f-94f6-f98ee51f7c26",
   "metadata": {},
   "outputs": [],
   "source": [
    "stations_over_time.shape"
   ]
  },
  {
   "cell_type": "code",
   "execution_count": null,
   "id": "6209b006-2323-4b41-8ed2-37bfbbda559b",
   "metadata": {},
   "outputs": [],
   "source": [
    "import plotly.express as px"
   ]
  },
  {
   "cell_type": "code",
   "execution_count": null,
   "id": "57454df4-df41-4ffd-b0d0-d1f6ae50f117",
   "metadata": {
    "scrolled": true
   },
   "outputs": [],
   "source": [
    "# # Read .csv file:\n",
    "# stations_over_time = pd.read_csv('stations-over-time.csv')\n",
    "\n",
    "# TODO: If year < start or > end, delete line.\n",
    "stations_over_time = stations_over_time[stations_over_time.Year <stations_over_time.End]\n",
    "stations_over_time = stations_over_time[stations_over_time.Year >stations_over_time.Start]\n",
    "\n",
    "# Create the animation\n",
    "world_map = px.scatter_geo(stations_over_time.reset_index(), lon='GLON', lat='GLAT', \n",
    "                           color = 'Network',\n",
    "                           symbol = 'Network',\n",
    "                           # size = 'Year',  \n",
    "                           animation_frame='Year', animation_group='Year', projection='orthographic', hover_name='Name', hover_data = ['ID', 'Network'], \n",
    "                          # symbol = 'Category'\n",
    "                          )\n",
    "# world_map = px.scatter_geo(world, lon='long', lat='lat', size='mass', color='orange', animation_frame='year', animation_group='group', projection='orthographic', hover_name='name')\n",
    "world_map.update_layout(title='Conjugate Points Over Time', title_x=0.5, title_font=dict(size=10))\n",
    "\n",
    "# Display the animation\n",
    "world_map.show()\n",
    "world_map.write_html(\"output/animated-map.html\")"
   ]
  }
 ],
 "metadata": {
  "kernelspec": {
   "display_name": "Python 3 (ipykernel)",
   "language": "python",
   "name": "python3"
  },
  "language_info": {
   "codemirror_mode": {
    "name": "ipython",
    "version": 3
   },
   "file_extension": ".py",
   "mimetype": "text/x-python",
   "name": "python",
   "nbconvert_exporter": "python",
   "pygments_lexer": "ipython3",
   "version": "3.9.1"
  }
 },
 "nbformat": 4,
 "nbformat_minor": 5
}
